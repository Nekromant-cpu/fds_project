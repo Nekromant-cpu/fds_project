{
 "cells": [
  {
   "cell_type": "code",
   "execution_count": 56,
   "id": "initial_id",
   "metadata": {
    "collapsed": true,
    "ExecuteTime": {
     "end_time": "2024-11-28T17:08:23.304084700Z",
     "start_time": "2024-11-28T17:08:14.846924800Z"
    }
   },
   "outputs": [
    {
     "name": "stdout",
     "output_type": "stream",
     "text": [
      "Requirement already satisfied: Faker in c:\\users\\noah\\appdata\\local\\programs\\python\\python310\\lib\\site-packages (33.1.0)"
     ]
    },
    {
     "name": "stderr",
     "output_type": "stream",
     "text": [
      "\n",
      "[notice] A new release of pip is available: 23.3.1 -> 24.3.1\n",
      "[notice] To update, run: python.exe -m pip install --upgrade pip\n"
     ]
    },
    {
     "name": "stdout",
     "output_type": "stream",
     "text": [
      "\n",
      "Requirement already satisfied: python-dateutil>=2.4 in c:\\users\\noah\\appdata\\local\\programs\\python\\python310\\lib\\site-packages (from Faker) (2.8.2)\n",
      "Requirement already satisfied: typing-extensions in c:\\users\\noah\\appdata\\local\\programs\\python\\python310\\lib\\site-packages (from Faker) (4.12.2)\n",
      "Requirement already satisfied: six>=1.5 in c:\\users\\noah\\appdata\\local\\programs\\python\\python310\\lib\\site-packages (from python-dateutil>=2.4->Faker) (1.16.0)\n",
      "Collecting fake-useragent\n",
      "  Downloading fake_useragent-1.5.1-py3-none-any.whl.metadata (15 kB)\n",
      "Downloading fake_useragent-1.5.1-py3-none-any.whl (17 kB)\n",
      "Installing collected packages: fake-useragent\n",
      "Successfully installed fake-useragent-1.5.1\n"
     ]
    },
    {
     "name": "stderr",
     "output_type": "stream",
     "text": [
      "\n",
      "[notice] A new release of pip is available: 23.3.1 -> 24.3.1\n",
      "[notice] To update, run: python.exe -m pip install --upgrade pip\n"
     ]
    }
   ],
   "source": [
    "!pip install Faker\n",
    "!pip install fake-useragent"
   ]
  },
  {
   "cell_type": "code",
   "execution_count": 58,
   "outputs": [],
   "source": [
    "import random\n",
    "import time\n",
    "import requests\n",
    "from bs4 import BeautifulSoup\n",
    "from faker import Faker\n",
    "import csv\n",
    "from fake_useragent import UserAgent\n",
    "\n",
    "base_url = \"https://www.amazon.com/dp/\"\n",
    "\n",
    "\n",
    "# headers = {\n",
    "#           'User-Agent': 'Mozilla/5.0 (Macintosh; Intel Mac OS X 13_1) AppleWebKit/605.1.15 (KHTML, like Gecko) Version/16.1 Safari/605.1.15',\n",
    "#           'Accept-Language': 'da, en-gb, en',\n",
    "#           'Accept-Encoding': 'gzip, deflate, br',\n",
    "#           'Accept': 'text/html,application/xhtml+xml,application/xml;q=0.9,image/avif,image/webp,*/*;q=0.8',\n",
    "#           'Referer': 'https://www.google.com/'\n",
    "#         }\n",
    "\n",
    "\n",
    "def get_soup_retry(url):\n",
    "    # fake = Faker()\n",
    "    # uag_random = fake.user_agent()\n",
    "    ua = UserAgent(browsers=['edge', 'chrome', 'firefox', 'safari'], platforms='pc')\n",
    "    uag_random = ua.random\n",
    "\n",
    "    header = {\n",
    "        'User-Agent': uag_random,\n",
    "        'Accept-Language': 'en-US,en;q=0.9'\n",
    "    }\n",
    "    isCaptcha = True\n",
    "    while isCaptcha:\n",
    "        time.sleep(random.uniform(0.5, 1))\n",
    "        page = requests.get(url, headers=header)\n",
    "        if not page.status_code == 200:\n",
    "            print(f\"page status code error: {page.status_code}\")\n",
    "        soup = BeautifulSoup(page.content, 'html.parser')\n",
    "        if 'captcha' in str(soup):\n",
    "            uag_random = ua.random #fake.user_agent()\n",
    "            print(f'\\rBot has been detected... retrying ... use new identity: {uag_random} ', end='', flush=True)\n",
    "            continue\n",
    "        else:\n",
    "            print('Bot bypassed')\n",
    "            return soup, page.status_code\n",
    "\n",
    "\n",
    "def get_description(soup):\n",
    "    div_class_description = \"a-expander-content a-expander-partial-collapse-content\"\n",
    "    outer_div = soup.find('div', {'data-a-expander-name': 'book_description_expander'})\n",
    "    \n",
    "    if outer_div:\n",
    "        inner_div = outer_div.find('div', class_=div_class_description)\n",
    "        if inner_div:\n",
    "            inner_text = inner_div.get_text(strip=True, separator=' ')\n",
    "            return inner_text\n",
    "        else:\n",
    "            return None\n",
    "    else:\n",
    "        return None\n",
    "    \n",
    "def get_ages(soup):\n",
    "    #TODO\n",
    "    return None\n",
    "\n",
    "def get_new_values(url):\n",
    "    soup, status_code = get_soup_retry(url)\n",
    "    \n",
    "    description = get_description(soup)\n",
    "    if description is None:\n",
    "        print(f\"Description not found for url: {url}\")\n",
    "        description = \"\"\n",
    "    ages = get_ages(soup)\n",
    "    if ages is None:\n",
    "        print(f\"Ages not found for url: {url}\")\n",
    "        ages = \"None\"\n",
    "    return {\"description\" : description, \"ages\" : ages, \"code\" : status_code}\n",
    "    \n",
    "\n",
    "def process_csv_no_header(input_csv, output_csv, start_row, end_row):\n",
    "    with open(input_csv, mode='r', encoding='utf-8', errors='ignore') as infile, open(output_csv, mode='w', encoding='utf-8', newline='') as outfile:\n",
    "        # Read input as plain rows\n",
    "        reader = csv.reader(infile, quotechar='\"')\n",
    "        writer = csv.writer(outfile, quotechar='\"', quoting=csv.QUOTE_MINIMAL) # make sure to correctly escape characters\n",
    "\n",
    "        for row_index, row in enumerate(reader):\n",
    "            # Process rows within the range\n",
    "            if start_row <= row_index < end_row:\n",
    "                if len(row) >= 7:\n",
    "                    # Check if there is an 8th, 9th and 10th field for description, ages and status_code\n",
    "                    if len(row) >= 9:\n",
    "                        description = row[7].strip()\n",
    "                        ages = row[8].strip()\n",
    "                        # Replace description and ages only if one of them is empty\n",
    "                        if not description or not ages:\n",
    "                            asin = row[0]  # Assuming ASIN is in the first column\n",
    "                            new_values = get_new_values(base_url + asin)\n",
    "                            row[7] = new_values[\"description\"]\n",
    "                            row[8] = new_values[\"ages\"]\n",
    "                            row[9] = new_values[\"code\"]\n",
    "                    else:\n",
    "                        # Add a new 8th and 9th field if not present\n",
    "                        asin = row[0]  # Assuming ASIN is in the first column\n",
    "                        new_values = get_new_values(base_url + asin)\n",
    "                        row.append(new_values[\"description\"])\n",
    "                        row.append(new_values[\"ages\"])\n",
    "                        row.append(new_values[\"code\"])\n",
    "            # Write the row to the output CSV\n",
    "            # writer.writerow(row)\n"
   ],
   "metadata": {
    "collapsed": false,
    "ExecuteTime": {
     "end_time": "2024-11-28T17:11:44.464938200Z",
     "start_time": "2024-11-28T17:11:44.444642900Z"
    }
   },
   "id": "404df308dd846f86"
  },
  {
   "cell_type": "code",
   "execution_count": 59,
   "outputs": [
    {
     "name": "stdout",
     "output_type": "stream",
     "text": [
      "Bot has been detected... retrying ... use new identity: Mozilla/5.0 (Windows NT 10.0; Win64; x64) AppleWebKit/537.36 (KHTML, like Gecko) Chrome/122.0.0.0 Safari/537.36 Edg/121.0.0.0 page status code error: 404\n",
      "Bot bypassed\n",
      "Description not found for url: https://www.amazon.com/dp/761183272\n",
      "Ages not found for url: https://www.amazon.com/dp/761183272\n",
      "Bot has been detected... retrying ... use new identity: Mozilla/5.0 (Windows NT 10.0; Win64; x64) AppleWebKit/537.36 (KHTML, like Gecko) Chrome/122.0.0.0 Safari/537.36 37.36 1.0.0.0 88.20 Bot bypassed\n",
      "Ages not found for url: https://www.amazon.com/dp/1623439671\n",
      "Bot has been detected... retrying ... use new identity: Mozilla/5.0 (Windows NT 10.0; Win64; x64; rv:123.0) Gecko/20100101 Firefox/123.0 Config/91.2.2121.13 ari/537.36 Edg/121.0.0.0 AtContent/95.5.5392.49 Bot bypassed\n",
      "Description not found for url: https://www.amazon.com/dp/B00O80WC6I\n",
      "Ages not found for url: https://www.amazon.com/dp/B00O80WC6I\n",
      "Bot has been detected... retrying ... use new identity: Mozilla/5.0 (Windows NT 10.0; Win64; x64; rv:123.0) Gecko/20100101 Firefox/123.0 OpenWave/94.4.4504.39 i/537.36 Edg/121.0.0.0 Trailer/93.3.3695.30 page status code error: 404\n",
      "Bot bypassed\n",
      "Description not found for url: https://www.amazon.com/dp/761182187\n",
      "Ages not found for url: https://www.amazon.com/dp/761182187\n",
      "Bot has been detected... retrying ... use new identity: Mozilla/5.0 (X11; Linux x86_64; rv:123.0) Gecko/20100101 Firefox/123.0 Bot bypassed\n",
      "Ages not found for url: https://www.amazon.com/dp/1578052084\n",
      "Bot has been detected... retrying ... use new identity: Mozilla/5.0 (Windows NT 10.0; Win64; x64) AppleWebKit/537.36 (KHTML, like Gecko) Chrome/122.0.0.0 Safari/537.36 Edg/121.0.0.0 AtContent/95.5.5392.49 Bot bypassed\n",
      "Ages not found for url: https://www.amazon.com/dp/1578052076\n",
      "Bot has been detected... retrying ... use new identity: Mozilla/5.0 (Windows NT 10.0; Win64; x64) AppleWebKit/537.36 (KHTML, like Gecko) Chrome/121.0.0.0 Safari/537.36 Edg/121.0.0.0 GLS/100.10.9850.99 Bot bypassed\n",
      "Ages not found for url: https://www.amazon.com/dp/1449468713\n",
      "Bot has been detected... retrying ... use new identity: Mozilla/5.0 (Windows NT 10.0; Win64; x64) AppleWebKit/537.36 (KHTML, like Gecko) Chrome/121.0.0.0 Safari/537.36 Edg/121.0.0.0 Agency/98.8.8188.80  page status code error: 404\n",
      "Bot bypassed\n",
      "Description not found for url: https://www.amazon.com/dp/316380652\n",
      "Ages not found for url: https://www.amazon.com/dp/316380652\n",
      "Bot has been detected... retrying ... use new identity: Mozilla/5.0 (Windows NT 10.0; Win64; x64) AppleWebKit/537.36 (KHTML, like Gecko) Chrome/121.0.0.0 Safari/537.36 Edg/121.0.0.0 Bot bypassed\n",
      "Ages not found for url: https://www.amazon.com/dp/1449465145\n",
      "Bot bypassed\n",
      "Ages not found for url: https://www.amazon.com/dp/1449461581\n"
     ]
    }
   ],
   "source": [
    "input_csv_path = \"book32-listing.csv\"\n",
    "output_csv_path = \"output_with_new_values.csv\"\n",
    "\n",
    "# Specify range of rows to process (e.g., rows 0–10)\n",
    "process_csv_no_header(input_csv_path, output_csv_path, start_row=0, end_row=10)"
   ],
   "metadata": {
    "collapsed": false,
    "ExecuteTime": {
     "end_time": "2024-11-28T17:13:38.041671100Z",
     "start_time": "2024-11-28T17:11:45.243744300Z"
    }
   },
   "id": "8719b509b1cc3f3f"
  },
  {
   "cell_type": "code",
   "execution_count": null,
   "outputs": [],
   "source": [],
   "metadata": {
    "collapsed": false
   },
   "id": "6cc490ef35d1ad03"
  }
 ],
 "metadata": {
  "kernelspec": {
   "display_name": "Python 3",
   "language": "python",
   "name": "python3"
  },
  "language_info": {
   "codemirror_mode": {
    "name": "ipython",
    "version": 2
   },
   "file_extension": ".py",
   "mimetype": "text/x-python",
   "name": "python",
   "nbconvert_exporter": "python",
   "pygments_lexer": "ipython2",
   "version": "2.7.6"
  }
 },
 "nbformat": 4,
 "nbformat_minor": 5
}
