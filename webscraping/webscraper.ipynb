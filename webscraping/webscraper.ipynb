{
 "cells": [
  {
   "cell_type": "code",
   "execution_count": null,
   "id": "initial_id",
   "metadata": {
    "collapsed": true
   },
   "outputs": [],
   "source": [
    "!pip install Faker"
   ]
  },
  {
   "cell_type": "code",
   "execution_count": 46,
   "outputs": [],
   "source": [
    "import random\n",
    "import time\n",
    "import requests\n",
    "from bs4 import BeautifulSoup\n",
    "from faker import Faker\n",
    "import csv\n",
    "\n",
    "base_url = \"https://www.amazon.com/dp/\"\n",
    "\n",
    "\n",
    "# headers = {\n",
    "#           'User-Agent': 'Mozilla/5.0 (Macintosh; Intel Mac OS X 13_1) AppleWebKit/605.1.15 (KHTML, like Gecko) Version/16.1 Safari/605.1.15',\n",
    "#           'Accept-Language': 'da, en-gb, en',\n",
    "#           'Accept-Encoding': 'gzip, deflate, br',\n",
    "#           'Accept': 'text/html,application/xhtml+xml,application/xml;q=0.9,image/avif,image/webp,*/*;q=0.8',\n",
    "#           'Referer': 'https://www.google.com/'\n",
    "#         }\n",
    "\n",
    "\n",
    "def get_soup_retry(url):\n",
    "    fake = Faker()\n",
    "    uag_random = fake.user_agent()\n",
    "\n",
    "    header = {\n",
    "        'User-Agent': uag_random,\n",
    "        'Accept-Language': 'en-US,en;q=0.9'\n",
    "    }\n",
    "    isCaptcha = True\n",
    "    while isCaptcha:\n",
    "        time.sleep(random.uniform(0.5, 1))\n",
    "        page = requests.get(url, headers=header)\n",
    "        if not page.status_code == 200:\n",
    "            print(f\"page status code error: {page.status_code}\")\n",
    "        soup = BeautifulSoup(page.content, 'html.parser')\n",
    "        if 'captcha' in str(soup):\n",
    "            uag_random = fake.user_agent()\n",
    "            print(f'\\rBot has been detected... retrying ... use new identity: {uag_random} ', end='', flush=True)\n",
    "            continue\n",
    "        else:\n",
    "            print('Bot bypassed')\n",
    "            return soup, page.status_code\n",
    "\n",
    "\n",
    "def get_description(soup):\n",
    "    div_class_description = \"a-expander-content a-expander-partial-collapse-content\"\n",
    "    outer_div = soup.find('div', {'data-a-expander-name': 'book_description_expander'})\n",
    "    \n",
    "    if outer_div:\n",
    "        inner_div = outer_div.find('div', class_=div_class_description)\n",
    "        if inner_div:\n",
    "            inner_text = inner_div.get_text(strip=True, separator=' ')\n",
    "            return inner_text\n",
    "        else:\n",
    "            return None\n",
    "    else:\n",
    "        return None\n",
    "    \n",
    "def get_ages(soup):\n",
    "    #TODO\n",
    "    return None\n",
    "\n",
    "def get_new_values(url):\n",
    "    soup, status_code = get_soup_retry(url)\n",
    "    \n",
    "    description = get_description(soup)\n",
    "    if description is None:\n",
    "        print(f\"Description not found for url: {url}\")\n",
    "        description = \"\"\n",
    "    ages = get_ages(soup)\n",
    "    if ages is None:\n",
    "        print(f\"Ages not found for url: {url}\")\n",
    "        ages = \"None\"\n",
    "    return {\"description\" : description, \"ages\" : ages, \"code\" : status_code}\n",
    "    \n",
    "\n",
    "def process_csv_no_header(input_csv, output_csv, start_row, end_row):\n",
    "    with open(input_csv, mode='r', encoding='utf-8', errors='ignore') as infile, open(output_csv, mode='w', encoding='utf-8', newline='') as outfile:\n",
    "        # Read input as plain rows\n",
    "        reader = csv.reader(infile, quotechar='\"')\n",
    "        writer = csv.writer(outfile, quotechar='\"', quoting=csv.QUOTE_MINIMAL) # make sure to correctly escape characters\n",
    "\n",
    "        for row_index, row in enumerate(reader):\n",
    "            # Process rows within the range\n",
    "            if start_row <= row_index < end_row:\n",
    "                if len(row) >= 7:\n",
    "                    # Check if there is an 8th, 9th and 10th field for description, ages and status_code\n",
    "                    if len(row) >= 9:\n",
    "                        description = row[7].strip()\n",
    "                        ages = row[8].strip()\n",
    "                        # Replace description and ages only if one of them is empty\n",
    "                        if not description or not ages:\n",
    "                            asin = row[0]  # Assuming ASIN is in the first column\n",
    "                            new_values = get_new_values(base_url + asin)\n",
    "                            row[7] = new_values[\"description\"]\n",
    "                            row[8] = new_values[\"ages\"]\n",
    "                            row[9] = new_values[\"code\"]\n",
    "                    else:\n",
    "                        # Add a new 8th and 9th field if not present\n",
    "                        asin = row[0]  # Assuming ASIN is in the first column\n",
    "                        new_values = get_new_values(base_url + asin)\n",
    "                        row.append(new_values[\"description\"])\n",
    "                        row.append(new_values[\"ages\"])\n",
    "                        row.append(new_values[\"code\"])\n",
    "            # Write the row to the output CSV\n",
    "            writer.writerow(row)\n"
   ],
   "metadata": {
    "collapsed": false,
    "ExecuteTime": {
     "end_time": "2024-11-28T14:13:57.233366900Z",
     "start_time": "2024-11-28T14:13:57.154855400Z"
    }
   },
   "id": "404df308dd846f86"
  },
  {
   "cell_type": "code",
   "execution_count": 47,
   "outputs": [
    {
     "name": "stdout",
     "output_type": "stream",
     "text": [
      "Bot has been detected... retrying ... use new identity: Mozilla/5.0 (iPod; U; CPU iPhone OS 3_3 like Mac OS X; kw-GB) AppleWebKit/531.25.4 (KHTML, like Gecko) Version/3.0.5 Mobile/8B118 Safari/6531.25.4  page status code error: 404\n",
      "Bot bypassed\n",
      "Description not found for url: https://www.amazon.com/dp/761183272\n",
      "Ages not found for url: https://www.amazon.com/dp/761183272\n",
      "Bot has been detected... retrying ... use new identity: Mozilla/5.0 (iPad; CPU iPad OS 1_1_5 like Mac OS X) AppleWebKit/533.1 (KHTML, like Gecko) CriOS/22.0.839.0 Mobile/72T285 Safari/533.1 Bot bypassed\n",
      "Ages not found for url: https://www.amazon.com/dp/1623439671\n",
      "Bot has been detected... retrying ... use new identity: Mozilla/5.0 (Windows; U; Windows NT 5.0) AppleWebKit/535.49.4 (KHTML, like Gecko) Version/5.0 Safari/535.49.4 ile/95R543 Safari/536.1 ri/6531.50.5 Bot bypassed\n",
      "Description not found for url: https://www.amazon.com/dp/B00O80WC6I\n",
      "Ages not found for url: https://www.amazon.com/dp/B00O80WC6I\n",
      "Bot has been detected... retrying ... use new identity: Mozilla/5.0 (Windows NT 5.01) AppleWebKit/536.1 (KHTML, like Gecko) Chrome/55.0.868.0 Safari/536.1 ko) Version/3.0.5 Mobile/8B111 Safari/6532.37.5 page status code error: 404\n",
      "Bot bypassed\n",
      "Description not found for url: https://www.amazon.com/dp/761182187\n",
      "Ages not found for url: https://www.amazon.com/dp/761182187\n",
      "Bot has been detected... retrying ... use new identity: Mozilla/5.0 (compatible; MSIE 5.0; Windows CE; Trident/4.1) ) AppleWebKit/531.46.1 (KHTML, like Gecko) Version/4.0.5 Mobile/8B112 Safari/6531.46.1 Bot bypassed\n",
      "Ages not found for url: https://www.amazon.com/dp/1578052084\n",
      "Bot has been detected... retrying ... use new identity: Mozilla/5.0 (X11; Linux i686) AppleWebKit/536.2 (KHTML, like Gecko) Chrome/26.0.881.0 Safari/536.2 .2 7.0.824.0 Mobile/56G490 Safari/533.2 Bot bypassed\n",
      "Ages not found for url: https://www.amazon.com/dp/1578052076\n",
      "Bot bypassed\n",
      "Ages not found for url: https://www.amazon.com/dp/1449468713\n",
      "Bot has been detected... retrying ... use new identity: Mozilla/5.0 (Android 3.2.1; Mobile; rv:20.0) Gecko/20.0 Firefox/20.0 , like Gecko) Version/5.0.3 Safari/533.40.1 page status code error: 404\n",
      "Bot bypassed\n",
      "Description not found for url: https://www.amazon.com/dp/316380652\n",
      "Ages not found for url: https://www.amazon.com/dp/316380652\n",
      "Bot has been detected... retrying ... use new identity: Mozilla/5.0 (compatible; MSIE 9.0; Windows NT 6.0; Trident/4.1) /535.1 (KHTML, like Gecko) FxiOS/15.0e0322.0 Mobile/07T882 Safari/535.1 Bot bypassed\n",
      "Ages not found for url: https://www.amazon.com/dp/1449465145\n",
      "Bot has been detected... retrying ... use new identity: Mozilla/5.0 (Windows NT 5.01) AppleWebKit/536.0 (KHTML, like Gecko) Chrome/42.0.897.0 Safari/536.0 Bot bypassed\n",
      "Ages not found for url: https://www.amazon.com/dp/1449461581\n"
     ]
    }
   ],
   "source": [
    "input_csv_path = \"book32-listing.csv\"\n",
    "output_csv_path = \"output_with_new_values.csv\"\n",
    "\n",
    "# Specify range of rows to process (e.g., rows 0–10)\n",
    "process_csv_no_header(input_csv_path, output_csv_path, start_row=0, end_row=10)"
   ],
   "metadata": {
    "collapsed": false,
    "ExecuteTime": {
     "end_time": "2024-11-28T14:15:10.756894800Z",
     "start_time": "2024-11-28T14:13:58.154660500Z"
    }
   },
   "id": "8719b509b1cc3f3f"
  },
  {
   "cell_type": "code",
   "execution_count": null,
   "outputs": [],
   "source": [],
   "metadata": {
    "collapsed": false
   },
   "id": "6cc490ef35d1ad03"
  }
 ],
 "metadata": {
  "kernelspec": {
   "display_name": "Python 3",
   "language": "python",
   "name": "python3"
  },
  "language_info": {
   "codemirror_mode": {
    "name": "ipython",
    "version": 2
   },
   "file_extension": ".py",
   "mimetype": "text/x-python",
   "name": "python",
   "nbconvert_exporter": "python",
   "pygments_lexer": "ipython2",
   "version": "2.7.6"
  }
 },
 "nbformat": 4,
 "nbformat_minor": 5
}
